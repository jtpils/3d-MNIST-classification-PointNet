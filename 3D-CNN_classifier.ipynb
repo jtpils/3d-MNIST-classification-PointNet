{
 "cells": [
  {
   "cell_type": "code",
   "execution_count": 1,
   "metadata": {},
   "outputs": [
    {
     "name": "stderr",
     "output_type": "stream",
     "text": [
      "Using TensorFlow backend.\n"
     ]
    }
   ],
   "source": [
    "from __future__ import division, print_function, absolute_import\n",
    "\n",
    "from keras.models import Sequential, model_from_json\n",
    "from keras.layers import Dense, Dropout, Flatten, Conv3D, MaxPool3D, BatchNormalization, Input\n",
    "from keras.optimizers import RMSprop\n",
    "from keras.preprocessing.image import ImageDataGenerator\n",
    "from keras.utils.np_utils import to_categorical\n",
    "from keras.callbacks import ReduceLROnPlateau, TensorBoard\n",
    "\n",
    "import h5py\n",
    "import pandas as pd\n",
    "import numpy as np\n",
    "import matplotlib.pyplot as plt\n",
    "import seaborn as sns\n",
    "sns.set_style('white')\n",
    "\n",
    "from sklearn.metrics import confusion_matrix, accuracy_score\n"
   ]
  },
  {
   "cell_type": "code",
   "execution_count": 2,
   "metadata": {},
   "outputs": [],
   "source": [
    "# Hyper Parameter\n",
    "batch_size = 4\n",
    "epochs = 30"
   ]
  },
  {
   "cell_type": "code",
   "execution_count": 3,
   "metadata": {},
   "outputs": [],
   "source": [
    "# Set up TensorBoard\n",
    "tensorboard = TensorBoard(batch_size=batch_size)\n",
    "\n",
    "with h5py.File(\"./3d-mnist-kaggle/full_dataset_vectors.h5\", 'r') as h5:\n",
    "    X_train, y_train = h5[\"X_train\"][:], h5[\"y_train\"][:]\n",
    "    X_test, y_test = h5[\"X_test\"][:], h5[\"y_test\"][:]\n"
   ]
  },
  {
   "cell_type": "code",
   "execution_count": 4,
   "metadata": {},
   "outputs": [
    {
     "data": {
      "text/plain": [
       "((10000, 4096), (10000,), (2000, 4096), (2000,))"
      ]
     },
     "execution_count": 4,
     "metadata": {},
     "output_type": "execute_result"
    }
   ],
   "source": [
    "X_train.shape, y_train.shape, X_test.shape, y_test.shape"
   ]
  },
  {
   "cell_type": "code",
   "execution_count": 5,
   "metadata": {},
   "outputs": [
    {
     "name": "stdout",
     "output_type": "stream",
     "text": [
      "0\n",
      "1000\n",
      "2000\n",
      "3000\n",
      "4000\n",
      "5000\n",
      "6000\n",
      "7000\n",
      "8000\n",
      "9000\n",
      "0\n",
      "1000\n"
     ]
    }
   ],
   "source": [
    "\n",
    "# Translate data to color\n",
    "def array_to_color(array, cmap=\"Oranges\"):\n",
    "    s_m = plt.cm.ScalarMappable(cmap=cmap)\n",
    "    return s_m.to_rgba(array)[:,:-1]\n",
    "\n",
    "def translate(x):\n",
    "    xx = np.ndarray((x.shape[0], 4096, 3))\n",
    "    for i in range(x.shape[0]):\n",
    "        xx[i] = array_to_color(x[i])\n",
    "        if i % 1000 == 0:\n",
    "            print(i)\n",
    "    # Free Memory\n",
    "    del x\n",
    "\n",
    "    return xx\n",
    "\n",
    "y_train = to_categorical(y_train, num_classes=10)\n",
    "# y_test = to_categorical(y_test, num_classes=10)\n",
    "\n",
    "X_train = translate(X_train).reshape(-1, 16, 16, 16, 3)\n",
    "X_test  = translate(X_test).reshape(-1, 16, 16, 16, 3)\n"
   ]
  },
  {
   "cell_type": "code",
   "execution_count": 6,
   "metadata": {},
   "outputs": [
    {
     "data": {
      "text/plain": [
       "((10000, 16, 16, 16, 3), (10000, 10), (2000, 16, 16, 16, 3), (2000,))"
      ]
     },
     "execution_count": 6,
     "metadata": {},
     "output_type": "execute_result"
    }
   ],
   "source": [
    "X_train.shape, y_train.shape, X_test.shape, y_test.shape"
   ]
  },
  {
   "cell_type": "code",
   "execution_count": null,
   "metadata": {},
   "outputs": [
    {
     "name": "stdout",
     "output_type": "stream",
     "text": [
      "Training...\n",
      "Train on 8500 samples, validate on 1500 samples\n",
      "Epoch 1/30\n"
     ]
    }
   ],
   "source": [
    "# Conv2D layer\n",
    "def Conv(filters=16, kernel_size=(3,3,3), activation='relu', input_shape=None):\n",
    "    if input_shape:\n",
    "        return Conv3D(filters=filters, kernel_size=kernel_size, padding='Same', activation=activation, input_shape=input_shape)\n",
    "    else:\n",
    "        return Conv3D(filters=filters, kernel_size=kernel_size, padding='Same', activation=activation)\n",
    "\n",
    "# Define Model\n",
    "def CNN(input_dim, num_classes):\n",
    "    model = Sequential()\n",
    "\n",
    "    model.add(Conv(8, (3,3,3), input_shape=input_dim))\n",
    "    model.add(Conv(16, (3,3,3)))\n",
    "    # model.add(BatchNormalization())\n",
    "    model.add(MaxPool3D())\n",
    "    # model.add(Dropout(0.25))\n",
    "\n",
    "    model.add(Conv(32, (3,3,3)))\n",
    "    model.add(Conv(64, (3,3,3)))\n",
    "    model.add(BatchNormalization())\n",
    "    model.add(MaxPool3D())\n",
    "    model.add(Dropout(0.25))\n",
    "\n",
    "    model.add(Flatten())\n",
    "\n",
    "    model.add(Dense(4096, activation='relu'))\n",
    "    model.add(Dropout(0.5))\n",
    "\n",
    "    model.add(Dense(1024, activation='relu'))\n",
    "    model.add(Dropout(0.5))\n",
    "\n",
    "    model.add(Dense(num_classes, activation='softmax'))\n",
    "\n",
    "    return model\n",
    "\n",
    "# Train Model\n",
    "def train(optimizer, scheduler):\n",
    "    global model\n",
    "\n",
    "    print(\"Training...\")\n",
    "    model.compile(optimizer = 'adam' , loss = \"categorical_crossentropy\", metrics=[\"accuracy\"])\n",
    "\n",
    "    model.fit(x=X_train, y=y_train, batch_size=batch_size, epochs=epochs, validation_split=0.15,\n",
    "                    verbose=2, callbacks=[scheduler, tensorboard])\n",
    "\n",
    "def evaluate():\n",
    "    global model\n",
    "\n",
    "    pred = model.predict(X_test)\n",
    "    pred = np.argmax(pred, axis=1)\n",
    "\n",
    "    print(accuracy_score(pred,y_test))\n",
    "    # Heat Map\n",
    "    array = confusion_matrix(y_test, pred)\n",
    "    cm = pd.DataFrame(array, index = range(10), columns = range(10))\n",
    "    plt.figure(figsize=(20,20))\n",
    "    sns.heatmap(cm, annot=True)\n",
    "    plt.show()\n",
    "\n",
    "def save_model():\n",
    "    global model\n",
    "\n",
    "    model_json = model.to_json()\n",
    "    with open('model/model_3D.json', 'w') as f:\n",
    "        f.write(model_json)\n",
    "\n",
    "    model.save_weights('model/model_3D.h5')\n",
    "\n",
    "    print('Model Saved.')\n",
    "\n",
    "def load_model():\n",
    "    f = open('model/model_3D.json', 'r')\n",
    "    model_json = f.read()\n",
    "    f.close()\n",
    "\n",
    "    loaded_model = model_from_json(model_json)\n",
    "    loaded_model.load_weights('model/model_3D.h5')\n",
    "\n",
    "    print(\"Model Loaded.\")\n",
    "    return loaded_model\n",
    "\n",
    "if __name__ == '__main__':\n",
    "\n",
    "    optimizer = RMSprop(lr=0.001, rho=0.9, epsilon=1e-08, decay=0.0)\n",
    "    scheduler = ReduceLROnPlateau(monitor='val_acc', patience=3, verbose=1, factor=0.5, min_lr=1e-5)\n",
    "\n",
    "    model = CNN((16,16,16,3), 10)\n",
    "\n",
    "    train(optimizer, scheduler)\n",
    "    evaluate()\n",
    "    save_model()"
   ]
  },
  {
   "cell_type": "code",
   "execution_count": null,
   "metadata": {},
   "outputs": [],
   "source": []
  }
 ],
 "metadata": {
  "kernelspec": {
   "display_name": "Python 3",
   "language": "python",
   "name": "python3"
  },
  "language_info": {
   "codemirror_mode": {
    "name": "ipython",
    "version": 3
   },
   "file_extension": ".py",
   "mimetype": "text/x-python",
   "name": "python",
   "nbconvert_exporter": "python",
   "pygments_lexer": "ipython3",
   "version": "3.5.5"
  }
 },
 "nbformat": 4,
 "nbformat_minor": 2
}
