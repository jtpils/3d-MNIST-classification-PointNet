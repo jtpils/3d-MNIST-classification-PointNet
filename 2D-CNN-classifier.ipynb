{
 "cells": [
  {
   "cell_type": "code",
   "execution_count": 6,
   "metadata": {},
   "outputs": [],
   "source": [
    "from __future__ import division, print_function, absolute_import\n",
    "\n",
    "from keras.models import Sequential, model_from_json\n",
    "from keras.layers import Dense, Dropout, Flatten, Conv2D, MaxPool2D, BatchNormalization\n",
    "from keras.optimizers import RMSprop\n",
    "from keras.preprocessing.image import ImageDataGenerator\n",
    "from keras.utils.np_utils import to_categorical\n",
    "from keras.callbacks import ReduceLROnPlateau, TensorBoard\n",
    "\n",
    "import h5py\n",
    "import pandas as pd\n",
    "import numpy as np\n",
    "import matplotlib.pyplot as plt\n",
    "import seaborn as sns\n",
    "sns.set_style('white')\n",
    "\n",
    "from sklearn.metrics import confusion_matrix, accuracy_score\n",
    "from sklearn.model_selection import train_test_split"
   ]
  },
  {
   "cell_type": "code",
   "execution_count": 18,
   "metadata": {},
   "outputs": [],
   "source": [
    "# Hyper Parameter\n",
    "batch_size = 86\n",
    "epochs = 30"
   ]
  },
  {
   "cell_type": "code",
   "execution_count": 8,
   "metadata": {},
   "outputs": [],
   "source": [
    "# Set up TensorBoard\n",
    "tensorboard = TensorBoard(batch_size=batch_size)\n",
    "\n",
    "with h5py.File(\"./3d-mnist-kaggle/full_dataset_vectors.h5\", 'r') as h5:\n",
    "    X_train, y_train = h5[\"X_train\"][:], h5[\"y_train\"][:]\n",
    "    X_test, y_test = h5[\"X_test\"][:], h5[\"y_test\"][:]\n"
   ]
  },
  {
   "cell_type": "code",
   "execution_count": 9,
   "metadata": {},
   "outputs": [
    {
     "data": {
      "text/plain": [
       "((10000, 4096), (10000,), (2000, 4096), (2000,))"
      ]
     },
     "execution_count": 9,
     "metadata": {},
     "output_type": "execute_result"
    }
   ],
   "source": [
    "X_train.shape, y_train.shape, X_test.shape, y_test.shape"
   ]
  },
  {
   "cell_type": "code",
   "execution_count": 11,
   "metadata": {},
   "outputs": [],
   "source": [
    "y_train = to_categorical(y_train, num_classes=10)\n",
    "# y_test = to_categorical(y_test, num_classes=10)\n",
    "\n",
    "X_train = X_train.reshape(-1, 16, 16, 16)\n",
    "X_test  = X_test.reshape(-1, 16, 16, 16)\n",
    "\n",
    "X_train, X_val, y_train, y_val = train_test_split(X_train, y_train, test_size=0.15, random_state=42)\n"
   ]
  },
  {
   "cell_type": "code",
   "execution_count": 13,
   "metadata": {},
   "outputs": [
    {
     "data": {
      "text/plain": [
       "((8500, 16, 16, 16),\n",
       " (8500, 10),\n",
       " (1500, 16, 16, 16),\n",
       " (1500, 10),\n",
       " (2000, 16, 16, 16),\n",
       " (2000,))"
      ]
     },
     "execution_count": 13,
     "metadata": {},
     "output_type": "execute_result"
    }
   ],
   "source": [
    "X_train.shape, y_train.shape, X_val.shape, y_val.shape, X_test.shape, y_test.shape"
   ]
  },
  {
   "cell_type": "code",
   "execution_count": 14,
   "metadata": {},
   "outputs": [],
   "source": [
    "# Conv2D layer\n",
    "def Conv(filters=16, kernel_size=(3,3), activation='relu', input_shape=None):\n",
    "    if input_shape:\n",
    "        return Conv2D(filters=filters, kernel_size=kernel_size, padding='Same', activation=activation, input_shape=input_shape)\n",
    "    else:\n",
    "        return Conv2D(filters=filters, kernel_size=kernel_size, padding='Same', activation=activation)\n",
    "\n",
    "\n",
    "# Define Model\n",
    "def CNN(input_dim, num_classes):\n",
    "    model = Sequential()\n",
    "\n",
    "    model.add(Conv(8, (3,3), input_shape=input_dim))\n",
    "    model.add(Conv(16, (3,3)))\n",
    "    # model.add(BatchNormalization())\n",
    "    model.add(MaxPool2D(pool_size=(2,2)))\n",
    "    model.add(Dropout(0.25))\n",
    "\n",
    "    model.add(Conv(32, (3,3)))\n",
    "    model.add(Conv(64, (3,3)))\n",
    "    model.add(BatchNormalization())\n",
    "    model.add(MaxPool2D())\n",
    "    model.add(Dropout(0.25))\n",
    "\n",
    "    model.add(Flatten())\n",
    "\n",
    "    model.add(Dense(4096, activation='relu'))\n",
    "    model.add(Dropout(0.5))\n",
    "\n",
    "    model.add(Dense(1024, activation='relu'))\n",
    "    model.add(Dropout(0.5))\n",
    "\n",
    "    model.add(Dense(num_classes, activation='softmax'))\n",
    "\n",
    "    return model\n",
    "\n",
    "# Train Model\n",
    "def train(optimizer, scheduler, gen):\n",
    "    global model\n",
    "\n",
    "    print(\"Training...\")\n",
    "    model.compile(optimizer = 'adam' , loss = \"categorical_crossentropy\", metrics=[\"accuracy\"])\n",
    "\n",
    "    model.fit_generator(gen.flow(X_train, y_train, batch_size=batch_size),\n",
    "                    epochs=epochs, validation_data=(X_val, y_val),\n",
    "                    verbose=2, steps_per_epoch=X_train.shape[0]//batch_size,\n",
    "                    callbacks=[scheduler, tensorboard])\n",
    "def evaluate():\n",
    "    global model\n",
    "\n",
    "    pred = model.predict(X_test)\n",
    "    pred = np.argmax(pred, axis=1)\n",
    "\n",
    "    print(accuracy_score(pred,y_test))\n",
    "    # Heat Map\n",
    "    array = confusion_matrix(y_test, pred)\n",
    "    cm = pd.DataFrame(array, index = range(10), columns = range(10))\n",
    "    plt.figure(figsize=(20,20))\n",
    "    sns.heatmap(cm, annot=True)\n",
    "    plt.show()\n",
    "\n",
    "def save_model():\n",
    "    global model\n",
    "\n",
    "    model_json = model.to_json()\n",
    "    with open('model/model_2D.json', 'w') as f:\n",
    "        f.write(model_json)\n",
    "\n",
    "    model.save_weights('model/model_2D.h5')\n",
    "\n",
    "    print('Model Saved.')\n",
    "\n",
    "def load_model():\n",
    "    f = open('model/model_2D.json', 'r')\n",
    "    model_json = f.read()\n",
    "    f.close()\n",
    "\n",
    "    loaded_model = model_from_json(model_json)\n",
    "    loaded_model.load_weights('model/model_2D.h5')\n",
    "\n",
    "    print(\"Model Loaded.\")\n",
    "    return loaded_model\n"
   ]
  },
  {
   "cell_type": "code",
   "execution_count": 19,
   "metadata": {
    "scrolled": false
   },
   "outputs": [
    {
     "name": "stderr",
     "output_type": "stream",
     "text": [
      "C:\\Users\\Isaac\\Documents\\miniconda3\\envs\\tensorflow\\lib\\site-packages\\keras_preprocessing\\image.py:1183: UserWarning: Expected input to be images (as Numpy array) following the data format convention \"channels_last\" (channels on axis 3), i.e. expected either 1, 3 or 4 channels on axis 3. However, it was passed an array with shape (8500, 16, 16, 16) (16 channels).\n",
      "  ' channels).')\n"
     ]
    },
    {
     "name": "stdout",
     "output_type": "stream",
     "text": [
      "Training...\n"
     ]
    },
    {
     "name": "stderr",
     "output_type": "stream",
     "text": [
      "C:\\Users\\Isaac\\Documents\\miniconda3\\envs\\tensorflow\\lib\\site-packages\\keras_preprocessing\\image.py:1404: UserWarning: NumpyArrayIterator is set to use the data format convention \"channels_last\" (channels on axis 3), i.e. expected either 1, 3 or 4 channels on axis 3. However, it was passed an array with shape (8500, 16, 16, 16) (16 channels).\n",
      "  str(self.x.shape[channels_axis]) + ' channels).')\n"
     ]
    },
    {
     "name": "stdout",
     "output_type": "stream",
     "text": [
      "Epoch 1/30\n",
      " - 10s - loss: 2.0765 - acc: 0.2853 - val_loss: 1.3734 - val_acc: 0.4960\n",
      "Epoch 2/30\n",
      " - 9s - loss: 1.4759 - acc: 0.4768 - val_loss: 1.1494 - val_acc: 0.6093\n",
      "Epoch 3/30\n",
      " - 9s - loss: 1.2973 - acc: 0.5379 - val_loss: 1.1178 - val_acc: 0.5967\n",
      "Epoch 4/30\n",
      " - 10s - loss: 1.2355 - acc: 0.5636 - val_loss: 1.0950 - val_acc: 0.6087\n",
      "Epoch 5/30\n",
      " - 10s - loss: 1.1721 - acc: 0.5836 - val_loss: 1.0397 - val_acc: 0.6113\n",
      "Epoch 6/30\n",
      " - 9s - loss: 1.1574 - acc: 0.5875 - val_loss: 1.0263 - val_acc: 0.6120\n",
      "Epoch 7/30\n",
      " - 9s - loss: 1.1334 - acc: 0.5975 - val_loss: 1.0322 - val_acc: 0.6147\n",
      "Epoch 8/30\n",
      " - 10s - loss: 1.1138 - acc: 0.6024 - val_loss: 0.9909 - val_acc: 0.6427\n",
      "Epoch 9/30\n",
      " - 10s - loss: 1.0947 - acc: 0.6126 - val_loss: 1.1797 - val_acc: 0.6020\n",
      "Epoch 10/30\n",
      " - 10s - loss: 1.0744 - acc: 0.6145 - val_loss: 0.9982 - val_acc: 0.6467\n",
      "Epoch 11/30\n",
      " - 10s - loss: 1.0447 - acc: 0.6307 - val_loss: 0.9332 - val_acc: 0.6647\n",
      "Epoch 12/30\n",
      " - 10s - loss: 1.0610 - acc: 0.6224 - val_loss: 0.9514 - val_acc: 0.6540\n",
      "Epoch 13/30\n",
      " - 10s - loss: 1.0345 - acc: 0.6285 - val_loss: 1.0039 - val_acc: 0.6500\n",
      "Epoch 14/30\n",
      " - 10s - loss: 1.0179 - acc: 0.6367 - val_loss: 0.9753 - val_acc: 0.6567\n",
      "\n",
      "Epoch 00014: ReduceLROnPlateau reducing learning rate to 0.0005000000237487257.\n",
      "Epoch 15/30\n",
      " - 10s - loss: 0.9954 - acc: 0.6428 - val_loss: 0.9741 - val_acc: 0.6653\n",
      "Epoch 16/30\n",
      " - 10s - loss: 0.9425 - acc: 0.6629 - val_loss: 0.9105 - val_acc: 0.6820\n",
      "Epoch 17/30\n",
      " - 10s - loss: 0.9697 - acc: 0.6554 - val_loss: 0.9463 - val_acc: 0.6733\n",
      "Epoch 18/30\n",
      " - 10s - loss: 0.9201 - acc: 0.6743 - val_loss: 0.9242 - val_acc: 0.6800\n",
      "Epoch 19/30\n",
      " - 10s - loss: 0.9387 - acc: 0.6638 - val_loss: 0.9466 - val_acc: 0.6753\n",
      "\n",
      "Epoch 00019: ReduceLROnPlateau reducing learning rate to 0.0002500000118743628.\n",
      "Epoch 20/30\n",
      " - 10s - loss: 0.8952 - acc: 0.6798 - val_loss: 0.9173 - val_acc: 0.6847\n",
      "Epoch 21/30\n",
      " - 10s - loss: 0.8946 - acc: 0.6794 - val_loss: 0.9231 - val_acc: 0.6793\n",
      "Epoch 22/30\n",
      " - 10s - loss: 0.8704 - acc: 0.6889 - val_loss: 0.9194 - val_acc: 0.6787\n",
      "Epoch 23/30\n",
      " - 10s - loss: 0.8719 - acc: 0.6856 - val_loss: 0.9089 - val_acc: 0.6907\n",
      "Epoch 24/30\n",
      " - 10s - loss: 0.8768 - acc: 0.6892 - val_loss: 0.9130 - val_acc: 0.6860\n",
      "Epoch 25/30\n",
      " - 10s - loss: 0.8646 - acc: 0.6866 - val_loss: 0.8703 - val_acc: 0.7000\n",
      "Epoch 26/30\n",
      " - 10s - loss: 0.8545 - acc: 0.6949 - val_loss: 0.8877 - val_acc: 0.6913\n",
      "Epoch 27/30\n",
      " - 9s - loss: 0.8512 - acc: 0.6924 - val_loss: 0.8861 - val_acc: 0.6960\n",
      "Epoch 28/30\n",
      " - 10s - loss: 0.8459 - acc: 0.6955 - val_loss: 0.8970 - val_acc: 0.6907\n",
      "\n",
      "Epoch 00028: ReduceLROnPlateau reducing learning rate to 0.0001250000059371814.\n",
      "Epoch 29/30\n",
      " - 10s - loss: 0.8292 - acc: 0.7060 - val_loss: 0.8872 - val_acc: 0.6867\n",
      "Epoch 30/30\n",
      " - 10s - loss: 0.8216 - acc: 0.7093 - val_loss: 0.9223 - val_acc: 0.6900\n",
      "0.6875\n"
     ]
    },
    {
     "data": {
      "image/png": "[encoded data removed]",
      "text/plain": [
       "<Figure size 1440x1440 with 2 Axes>"
      ]
     },
     "metadata": {},
     "output_type": "display_data"
    },
    {
     "name": "stdout",
     "output_type": "stream",
     "text": [
      "Model Saved.\n"
     ]
    }
   ],
   "source": [
    "if __name__ == '__main__':\n",
    "\n",
    "    optimizer = RMSprop(lr=0.001, rho=0.9, epsilon=1e-08, decay=0.0)\n",
    "    scheduler = ReduceLROnPlateau(monitor='val_acc', patience=3, verbose=1, factor=0.5, min_lr=1e-5)\n",
    "\n",
    "    model = CNN((16,16,16), 10)\n",
    "\n",
    "    gen = ImageDataGenerator(rotation_range=10, zoom_range = 0.1, width_shift_range=0.1, height_shift_range=0.1)\n",
    "    gen.fit(X_train)\n",
    "    \n",
    "#     model = load_model()\n",
    "    train(optimizer, scheduler, gen)\n",
    "    evaluate()\n",
    "    save_model()\n"
   ]
  },
  {
   "cell_type": "code",
   "execution_count": null,
   "metadata": {
    "collapsed": true
   },
   "outputs": [],
   "source": []
  }
 ],
 "metadata": {
  "kernelspec": {
   "display_name": "Python 3",
   "language": "python",
   "name": "python3"
  },
  "language_info": {
   "codemirror_mode": {
    "name": "ipython",
    "version": 3
   },
   "file_extension": ".py",
   "mimetype": "text/x-python",
   "name": "python",
   "nbconvert_exporter": "python",
   "pygments_lexer": "ipython3",
   "version": "3.5.5"
  }
 },
 "nbformat": 4,
 "nbformat_minor": 2
}
